{
 "cells": [
  {
   "cell_type": "markdown",
   "id": "1eb1b827",
   "metadata": {},
   "source": [
    "### Printing Hello World"
   ]
  },
  {
   "cell_type": "markdown",
   "id": "db654d3f",
   "metadata": {},
   "source": [
    "#### Printing Hello World"
   ]
  },
  {
   "cell_type": "markdown",
   "id": "5447c637",
   "metadata": {},
   "source": [
    "##### Printing Hello World"
   ]
  },
  {
   "cell_type": "markdown",
   "id": "f1bd2c1d",
   "metadata": {},
   "source": [
    "###### Printing Hello World"
   ]
  },
  {
   "cell_type": "markdown",
   "id": "3dc88a41",
   "metadata": {},
   "source": [
    "## Printing Hello World"
   ]
  },
  {
   "cell_type": "markdown",
   "id": "d3bf9c5f",
   "metadata": {},
   "source": [
    "# Printing Hello World"
   ]
  },
  {
   "cell_type": "code",
   "execution_count": 7,
   "id": "ef319368",
   "metadata": {},
   "outputs": [
    {
     "name": "stdout",
     "output_type": "stream",
     "text": [
      "Hello World\n"
     ]
    }
   ],
   "source": [
    "print(\"Hello World\") "
   ]
  },
  {
   "cell_type": "markdown",
   "id": "a8880910",
   "metadata": {},
   "source": [
    "### Shortcut Keys"
   ]
  },
  {
   "cell_type": "code",
   "execution_count": 8,
   "id": "e2f7371c",
   "metadata": {},
   "outputs": [
    {
     "name": "stdout",
     "output_type": "stream",
     "text": [
      "hello\n"
     ]
    }
   ],
   "source": [
    "print('hello')"
   ]
  },
  {
   "cell_type": "code",
   "execution_count": 9,
   "id": "d65334c1",
   "metadata": {},
   "outputs": [
    {
     "name": "stdout",
     "output_type": "stream",
     "text": [
      "10.5\n"
     ]
    }
   ],
   "source": [
    "print(10.5)"
   ]
  },
  {
   "cell_type": "code",
   "execution_count": 10,
   "id": "44cc232d",
   "metadata": {},
   "outputs": [
    {
     "name": "stdout",
     "output_type": "stream",
     "text": [
      "10\n"
     ]
    }
   ],
   "source": [
    "print(10)"
   ]
  },
  {
   "cell_type": "code",
   "execution_count": 11,
   "id": "19055c0f",
   "metadata": {},
   "outputs": [
    {
     "ename": "NameError",
     "evalue": "name 'hello' is not defined",
     "output_type": "error",
     "traceback": [
      "\u001b[1;31m---------------------------------------------------------------------------\u001b[0m",
      "\u001b[1;31mNameError\u001b[0m                                 Traceback (most recent call last)",
      "Input \u001b[1;32mIn [11]\u001b[0m, in \u001b[0;36m<cell line: 1>\u001b[1;34m()\u001b[0m\n\u001b[1;32m----> 1\u001b[0m \u001b[38;5;28mprint\u001b[39m(\u001b[43mhello\u001b[49m)\n",
      "\u001b[1;31mNameError\u001b[0m: name 'hello' is not defined"
     ]
    }
   ],
   "source": [
    "print(hello)"
   ]
  },
  {
   "cell_type": "code",
   "execution_count": null,
   "id": "b6f97d8b",
   "metadata": {},
   "outputs": [],
   "source": []
  },
  {
   "cell_type": "code",
   "execution_count": null,
   "id": "6c3ffcb7",
   "metadata": {},
   "outputs": [],
   "source": []
  },
  {
   "cell_type": "code",
   "execution_count": null,
   "id": "1752c3ae",
   "metadata": {},
   "outputs": [],
   "source": []
  },
  {
   "cell_type": "markdown",
   "id": "a6ba08ac",
   "metadata": {},
   "source": [
    "## Shortcut Keys"
   ]
  },
  {
   "cell_type": "markdown",
   "id": "66b6715a",
   "metadata": {},
   "source": [
    "##### 1.Shift+ Enter=> Run\n",
    "##### 2.Insert Cell above=> a\n",
    "##### 3.Incert Cell below=> b\n",
    "##### 4.Delet Cell=> x"
   ]
  },
  {
   "cell_type": "code",
   "execution_count": 12,
   "id": "00f19322",
   "metadata": {},
   "outputs": [
    {
     "name": "stdout",
     "output_type": "stream",
     "text": [
      "Vinay\n"
     ]
    }
   ],
   "source": [
    "print(\"Vinay\")"
   ]
  },
  {
   "cell_type": "code",
   "execution_count": null,
   "id": "de82cc0c",
   "metadata": {},
   "outputs": [],
   "source": [
    "1.Shift+ Enter=> Run 2.Insert Cell above=> a 3.Incert Cell below=> b 4.Delet Cell=> x"
   ]
  },
  {
   "cell_type": "code",
   "execution_count": null,
   "id": "1ddc29aa",
   "metadata": {},
   "outputs": [],
   "source": []
  }
 ],
 "metadata": {
  "kernelspec": {
   "display_name": "Python 3 (ipykernel)",
   "language": "python",
   "name": "python3"
  },
  "language_info": {
   "codemirror_mode": {
    "name": "ipython",
    "version": 3
   },
   "file_extension": ".py",
   "mimetype": "text/x-python",
   "name": "python",
   "nbconvert_exporter": "python",
   "pygments_lexer": "ipython3",
   "version": "3.9.12"
  }
 },
 "nbformat": 4,
 "nbformat_minor": 5
}
